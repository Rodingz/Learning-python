{
 "cells": [
  {
   "cell_type": "code",
   "execution_count": 1,
   "metadata": {},
   "outputs": [],
   "source": [
    "def ssm(x,y):\n",
    "    sum1 = int(x) + int(y)\n",
    "    subtraction = int(x) - int(y)\n",
    "    product = int(x) * int(y)\n",
    "    return sum1,subtraction,product"
   ]
  },
  {
   "cell_type": "code",
   "execution_count": 2,
   "metadata": {},
   "outputs": [
    {
     "name": "stdout",
     "output_type": "stream",
     "text": [
      "Please enter your first number 2\n",
      "Please enter your second number 2\n",
      "(4, 0, 4)\n"
     ]
    }
   ],
   "source": [
    "prompt = \"Please enter your first number \"\n",
    "prompt2 = \"Please enter your second number \"\n",
    "A = input(prompt)\n",
    "B = input(prompt2)\n",
    "print(ssm(A,B))"
   ]
  },
  {
   "cell_type": "code",
   "execution_count": 3,
   "metadata": {},
   "outputs": [],
   "source": [
    "def maximum(x,y,z):\n",
    "    return max(x,y,z)"
   ]
  },
  {
   "cell_type": "code",
   "execution_count": 4,
   "metadata": {},
   "outputs": [
    {
     "name": "stdout",
     "output_type": "stream",
     "text": [
      "please enter your first number 1\n",
      "please enter your second number 3\n",
      "please enter your = third number 4\n",
      "4 is the maximum among all\n"
     ]
    }
   ],
   "source": [
    "prompt1 = \"please enter your first number \"\n",
    "prompt2 = \"please enter your second number \"\n",
    "prompt3 = \"please enter your = third number \"\n",
    "first = input(prompt1)\n",
    "second = input(prompt2)\n",
    "third = input(prompt3)\n",
    "result = maximum(first,second,third)\n",
    "print(result+\" is the maximum among all\")"
   ]
  },
  {
   "cell_type": "code",
   "execution_count": 5,
   "metadata": {},
   "outputs": [],
   "source": [
    "def evenorodd(x):\n",
    "    if int(x)%2 == 0:\n",
    "        return \" is an even number\"\n",
    "    else:\n",
    "        return \" is an odd number\""
   ]
  },
  {
   "cell_type": "code",
   "execution_count": 6,
   "metadata": {},
   "outputs": [
    {
     "name": "stdout",
     "output_type": "stream",
     "text": [
      "Please enter your number3\n",
      "3 is an odd number\n"
     ]
    }
   ],
   "source": [
    "prompt = \"Please enter your number\"\n",
    "n = input(prompt)\n",
    "result = evenorodd(n)\n",
    "print(n + result)"
   ]
  },
  {
   "cell_type": "code",
   "execution_count": 7,
   "metadata": {},
   "outputs": [],
   "source": [
    "def reverse(x):\n",
    "    while int(x) > 9:\n",
    "        return x[::-1] \n"
   ]
  },
  {
   "cell_type": "code",
   "execution_count": 8,
   "metadata": {},
   "outputs": [
    {
     "name": "stdout",
     "output_type": "stream",
     "text": [
      "Please enter your number56\n",
      "65\n"
     ]
    }
   ],
   "source": [
    "prompt = \"Please enter your number\"\n",
    "number = input(prompt)\n",
    "print(reverse(number))"
   ]
  },
  {
   "cell_type": "code",
   "execution_count": 9,
   "metadata": {},
   "outputs": [],
   "source": [
    "def descend(x):\n",
    "    while x > 0:\n",
    "        print(x)\n",
    "        x -=1\n",
    "        "
   ]
  },
  {
   "cell_type": "code",
   "execution_count": 10,
   "metadata": {},
   "outputs": [
    {
     "name": "stdout",
     "output_type": "stream",
     "text": [
      "10\n",
      "9\n",
      "8\n",
      "7\n",
      "6\n",
      "5\n",
      "4\n",
      "3\n",
      "2\n",
      "1\n"
     ]
    }
   ],
   "source": [
    "descend(10)"
   ]
  },
  {
   "cell_type": "code",
   "execution_count": 26,
   "metadata": {},
   "outputs": [],
   "source": [
    "def oddoreven(x):\n",
    "    even_num = []\n",
    "    odd_num = []\n",
    "    for item in x:\n",
    "        if item % 2 == 0:\n",
    "            even_num.append(item)\n",
    "        else:\n",
    "            odd_num.append(item)\n",
    "            \n",
    "            "
   ]
  },
  {
   "cell_type": "code",
   "execution_count": 16,
   "metadata": {},
   "outputs": [],
   "source": [
    "x = [12,243,25,235,46234,5234,5]"
   ]
  },
  {
   "cell_type": "code",
   "execution_count": 17,
   "metadata": {},
   "outputs": [],
   "source": [
    "def even_or_odd(x):\n",
    "    if x % 2 == 0:\n",
    "        print(\"even number\")\n",
    "    else:\n",
    "        print(\"odd number\")"
   ]
  },
  {
   "cell_type": "code",
   "execution_count": 18,
   "metadata": {},
   "outputs": [
    {
     "name": "stdout",
     "output_type": "stream",
     "text": [
      "even number\n",
      "odd number\n",
      "odd number\n",
      "odd number\n",
      "even number\n",
      "even number\n",
      "odd number\n"
     ]
    }
   ],
   "source": [
    "for i in x:\n",
    "    even_or_odd(i)"
   ]
  },
  {
   "cell_type": "code",
   "execution_count": null,
   "metadata": {},
   "outputs": [],
   "source": []
  }
 ],
 "metadata": {
  "kernelspec": {
   "display_name": "Python 3",
   "language": "python",
   "name": "python3"
  },
  "language_info": {
   "codemirror_mode": {
    "name": "ipython",
    "version": 3
   },
   "file_extension": ".py",
   "mimetype": "text/x-python",
   "name": "python",
   "nbconvert_exporter": "python",
   "pygments_lexer": "ipython3",
   "version": "3.8.5"
  }
 },
 "nbformat": 4,
 "nbformat_minor": 4
}
